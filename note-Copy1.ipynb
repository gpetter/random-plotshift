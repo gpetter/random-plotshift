{
 "cells": [
  {
   "cell_type": "code",
   "execution_count": null,
   "metadata": {
    "collapsed": false
   },
   "outputs": [],
   "source": [
    "import matplotlib.pyplot as plt\n",
    "import random\n",
    "import numpy as np\n",
    "from astropy.io import ascii\n",
    "\n",
    "#plt.ion()\n",
    "plt2=plt\n",
    "num = input(\"Enter number of coordinates: \")\n",
    "shift = random.randint(1,6)\n",
    "my_listx = []\n",
    "my_listy = []\n",
    "shiftlist = ['shift value:', shift]\n",
    "\n",
    "ascii.write([shiftlist], 'shift.txt', overwrite=True)\n",
    "#fill x,y lists with random values\n",
    "for x in range(0, num, 1):\n",
    "    my_listx.append(random.randint(0,100))\n",
    "    my_listy.append(random.randint(0,100))\n",
    "\n",
    "#plot  and save initial plot with random values\n",
    "plt.plot(my_listx, my_listy, 'ro')\n",
    "\n",
    "plt.savefig('initial_plot.png', bbox_inches='tight')\n",
    "\n",
    "ascii.write([my_listx, my_listy], 'init_coordinates.txt', names=('x','y'), overwrite=True)\n",
    "plt.show()\n",
    "plt.close()\n",
    "\n",
    "axes = plt2.gca()\n",
    "axes.set_xlim([0,100])\n",
    "axes.set_ylim([0,100])\n",
    "\n",
    "#randomly choose which axis will be shifted, and shift all values by the same random number\n",
    "if random.randint(0,1) == 0:\n",
    "    for x in range(0, num, 1):\n",
    "        my_listx[x]=my_listx[x]+shift\n",
    "else:\n",
    "    for x in range(0, num, 1):\n",
    "        my_listy[x]=my_listy[x]+shift\n",
    "\n",
    "ascii.write([my_listx, my_listy], 'fin_coordinates.txt', names=('x', 'y'), overwrite=True)\n",
    "\n",
    "#plot and save graph which has had its values shifted\n",
    "plt2.plot(my_listx,my_listy, 'ro')\n",
    "\n",
    "plt2.savefig('shifted_plot.png', bbox_inches='tight')"
   ]
  },
  {
   "cell_type": "code",
   "execution_count": null,
   "metadata": {
    "collapsed": true
   },
   "outputs": [],
   "source": []
  },
  {
   "cell_type": "code",
   "execution_count": null,
   "metadata": {
    "collapsed": true
   },
   "outputs": [],
   "source": []
  },
  {
   "cell_type": "code",
   "execution_count": null,
   "metadata": {
    "collapsed": true
   },
   "outputs": [],
   "source": []
  },
  {
   "cell_type": "code",
   "execution_count": null,
   "metadata": {
    "collapsed": true
   },
   "outputs": [],
   "source": []
  }
 ],
 "metadata": {
  "kernelspec": {
   "display_name": "Python 2",
   "language": "python",
   "name": "python2"
  },
  "language_info": {
   "codemirror_mode": {
    "name": "ipython",
    "version": 2
   },
   "file_extension": ".py",
   "mimetype": "text/x-python",
   "name": "python",
   "nbconvert_exporter": "python",
   "pygments_lexer": "ipython2",
   "version": "2.7.13"
  }
 },
 "nbformat": 4,
 "nbformat_minor": 0
}
