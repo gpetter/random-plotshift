{
 "cells": [
  {
   "cell_type": "code",
   "execution_count": 1,
   "metadata": {
    "collapsed": false
   },
   "outputs": [
    {
     "name": "stderr",
     "output_type": "stream",
     "text": [
      "/Users/graysonpetter/anaconda/envs/iraf27/lib/python2.7/site-packages/matplotlib/font_manager.py:273: UserWarning: Matplotlib is building the font cache using fc-list. This may take a moment.\n",
      "  warnings.warn('Matplotlib is building the font cache using fc-list. This may take a moment.')\n"
     ]
    },
    {
     "name": "stdout",
     "output_type": "stream",
     "text": [
      "Enter number of coordinates: 30\n",
      "init_coordinates\n",
      "[86, 97, 68, 31, 16, 90, 84, 84, 75, 22, 15, 46, 68, 30, 80, 16, 77, 68, 79, 52, 16, 26, 14, 43, 8, 44, 87, 69, 31, 23]\n",
      "[53, 14, 37, 50, 59, 82, 100, 91, 95, 31, 77, 41, 9, 25, 28, 8, 94, 57, 8, 20, 92, 96, 37, 23, 55, 96, 15, 32, 15, 57]\n"
     ]
    },
    {
     "data": {
      "image/png": "[encoded data removed]",
      "text/plain": [
       "<matplotlib.figure.Figure at 0x116282b10>"
      ]
     },
     "metadata": {},
     "output_type": "display_data"
    },
    {
     "name": "stdout",
     "output_type": "stream",
     "text": [
      "fin_coordinates\n",
      "[90, 101, 72, 35, 20, 94, 88, 88, 79, 26, 19, 50, 72, 34, 84, 20, 81, 72, 83, 56, 20, 30, 18, 47, 12, 48, 91, 73, 35, 27]\n",
      "[53, 14, 37, 50, 59, 82, 100, 91, 95, 31, 77, 41, 9, 25, 28, 8, 94, 57, 8, 20, 92, 96, 37, 23, 55, 96, 15, 32, 15, 57]\n"
     ]
    },
    {
     "data": {
      "image/png": "[encoded data removed]",
      "text/plain": [
       "<matplotlib.figure.Figure at 0x11724f510>"
      ]
     },
     "metadata": {},
     "output_type": "display_data"
    }
   ],
   "source": [
    "import matplotlib.pyplot as plt\n",
    "import random\n",
    "import numpy as np\n",
    "from astropy.io import ascii\n",
    "\n",
    "plt2=plt\n",
    "num = input(\"Enter number of coordinates: \")\n",
    "shift = random.randint(1,6)\n",
    "my_listx = []\n",
    "my_listy = []\n",
    "shiftlist = ['shift value:', shift]\n",
    "\n",
    "ascii.write([shiftlist], 'shift.txt', overwrite=True)\n",
    "#fill x,y lists with random values\n",
    "for x in range(0, num, 1):\n",
    "    my_listx.append(random.randint(0,100))\n",
    "    my_listy.append(random.randint(0,100))\n",
    "\n",
    "#plot  and save initial plot with random values\n",
    "plt.plot(my_listx, my_listy, 'ro')\n",
    "\n",
    "plt.savefig('initial_plot.png', bbox_inches='tight')\n",
    "print('init_coordinates')\n",
    "print(my_listx)\n",
    "print(my_listy)\n",
    "\n",
    "ascii.write([my_listx, my_listy], 'init_coordinates.txt', names=('x','y'), overwrite=True)\n",
    "plt.show()\n",
    "plt.close()\n",
    "\n",
    "\n",
    "axes = plt2.gca()\n",
    "axes.set_xlim([0,100])\n",
    "axes.set_ylim([0,100])\n",
    "\n",
    "#randomly choose which axis will be shifted, and shift all values by the same random number\n",
    "if random.randint(0,1) == 0:\n",
    "    for x in range(0, num, 1):\n",
    "        my_listx[x]=my_listx[x]+shift\n",
    "else:\n",
    "    for x in range(0, num, 1):\n",
    "        my_listy[x]=my_listy[x]+shift\n",
    "        \n",
    "print('fin_coordinates')\n",
    "print(my_listx)\n",
    "print(my_listy)\n",
    "\n",
    "ascii.write([my_listx, my_listy], 'fin_coordinates.txt', names=('x', 'y'), overwrite=True)\n",
    "\n",
    "#plot and save graph which has had its values shifted\n",
    "plt2.plot(my_listx,my_listy, 'ro')\n",
    "\n",
    "plt2.savefig('shifted_plot.png', bbox_inches='tight')\n",
    "plt2.show()\n",
    "plt2.close()"
   ]
  },
  {
   "cell_type": "code",
   "execution_count": null,
   "metadata": {
    "collapsed": true
   },
   "outputs": [],
   "source": []
  },
  {
   "cell_type": "code",
   "execution_count": null,
   "metadata": {
    "collapsed": true
   },
   "outputs": [],
   "source": []
  },
  {
   "cell_type": "code",
   "execution_count": null,
   "metadata": {
    "collapsed": true
   },
   "outputs": [],
   "source": []
  },
  {
   "cell_type": "code",
   "execution_count": null,
   "metadata": {
    "collapsed": true
   },
   "outputs": [],
   "source": []
  }
 ],
 "metadata": {
  "kernelspec": {
   "display_name": "Python 2",
   "language": "python",
   "name": "python2"
  },
  "language_info": {
   "codemirror_mode": {
    "name": "ipython",
    "version": 2
   },
   "file_extension": ".py",
   "mimetype": "text/x-python",
   "name": "python",
   "nbconvert_exporter": "python",
   "pygments_lexer": "ipython2",
   "version": "2.7.13"
  }
 },
 "nbformat": 4,
 "nbformat_minor": 0
}
